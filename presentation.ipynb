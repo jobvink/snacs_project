{
 "cells": [
  {
   "cell_type": "code",
   "execution_count": 67,
   "metadata": {
    "pycharm": {
     "name": "#%%\n"
    }
   },
   "outputs": [],
   "source": [
    "import os\n",
    "import shutil\n",
    "import random\n",
    "\n",
    "import networkx as nx\n",
    "import numpy as np\n",
    "from matplotlib import pyplot as plt\n",
    "import imageio\n",
    "from IPython.display import HTML, display\n",
    "\n"
   ]
  },
  {
   "cell_type": "code",
   "execution_count": 68,
   "metadata": {
    "pycharm": {
     "name": "#%%\n"
    }
   },
   "outputs": [],
   "source": [
    "\n",
    "def densest_subgraph(G: nx.Graph, alpha: float) -> float:\n",
    "    if len(G.nodes) <= 1:\n",
    "        return 0\n",
    "    else:\n",
    "        return np.log(len(G.edges)) - alpha * np.log(len(G.nodes))\n",
    "\n",
    "\n",
    "def edge_density(G: nx.Graph, alpha: float) -> float:\n",
    "    if len(G.nodes) <= 1:\n",
    "        return 0\n",
    "    else:\n",
    "        n_nodes, n_edges = len(G.nodes), len(G.edges)\n",
    "        return np.log(n_edges) - alpha * np.log(n_nodes * (n_nodes - 1) / 2)\n",
    "\n"
   ]
  },
  {
   "cell_type": "code",
   "execution_count": 69,
   "metadata": {
    "pycharm": {
     "name": "#%%\n"
    }
   },
   "outputs": [],
   "source": [
    "\n",
    "def greedyOQC(G: nx.Graph, objective: callable, alpha: float):\n",
    "    best = G.copy()\n",
    "    best_objective = objective(best, alpha)\n",
    "\n",
    "    smallest = []\n",
    "\n",
    "    for _ in range(len(G.nodes)):\n",
    "        # find the node with the smallest degree\n",
    "        degrees = dict(G.degree)\n",
    "        v = min(degrees, key=degrees.get)\n",
    "        smallest.append(v)\n",
    "\n",
    "        # remove the node with the smallest degree\n",
    "        G.remove_node(v)\n",
    "\n",
    "        # evaluate the new Graph and\n",
    "        current_objective = objective(G, alpha)\n",
    "\n",
    "        # save the Graph if the objective function improves\n",
    "        if current_objective > best_objective:\n",
    "            best = G.copy()\n",
    "            best_objective = current_objective\n",
    "\n",
    "    return best, smallest\n",
    "\n",
    "\n",
    "def localSearchOQC(G: nx.Graph, t_max: int, objective: callable, alpha: float):\n",
    "    v = random.choice(list(G.nodes))\n",
    "    S: nx.Graph = G.subgraph([v])\n",
    "    b_1 = True\n",
    "    t = 1\n",
    "    history = [list(S.nodes)]\n",
    "    while b_1 and t <= t_max:\n",
    "        b_2 = True\n",
    "        remainingGraph = nx.subgraph_view(G, lambda n: n not in S.nodes)\n",
    "        while b_2:\n",
    "            best_objective = objective(S, alpha)\n",
    "            found = False\n",
    "\n",
    "            nodes_in_S = list(S.nodes)\n",
    "            for node in remainingGraph.nodes:\n",
    "                candidate = nx.subgraph_view(G, lambda n: n in nodes_in_S + [node])\n",
    "                current_objective = objective(candidate, alpha)\n",
    "                if current_objective >= best_objective:\n",
    "                    S = G.subgraph(list(S.nodes) + [node])\n",
    "                    found = True\n",
    "                    history.append(list(S.nodes))\n",
    "                    break\n",
    "\n",
    "            if not found:\n",
    "                b_2 = False\n",
    "\n",
    "        best_objective = objective(S, alpha)\n",
    "        found = False\n",
    "\n",
    "        for node in S.nodes:\n",
    "            nodes_in_S = list(S.nodes)\n",
    "            nodes_in_S.remove(node)\n",
    "            candidate = nx.subgraph_view(G, lambda n: n not in nodes_in_S)\n",
    "            current_objective = objective(candidate, alpha)\n",
    "            if current_objective >= best_objective:\n",
    "                new_view = list(S.nodes)\n",
    "                new_view.remove(node)\n",
    "                S = G.subgraph(new_view)\n",
    "                found = True\n",
    "                history.append(list(S.nodes))\n",
    "                break\n",
    "\n",
    "        if not found:\n",
    "            b_1 = False\n",
    "\n",
    "        t += 1\n",
    "\n",
    "    # Todo: hier moet nog iets bij volgens mij\n",
    "    return S, history"
   ]
  },
  {
   "cell_type": "code",
   "execution_count": 70,
   "metadata": {
    "pycharm": {
     "name": "#%%\n"
    }
   },
   "outputs": [],
   "source": [
    "def plot_greedy_oqc(G: nx.Graph, objective: callable, alpha: float):\n",
    "    shutil.rmtree('images')\n",
    "    os.makedirs('images')\n",
    "    B, history = greedyOQC(G.copy(), objective, alpha)\n",
    "    layout = nx.spring_layout(G)\n",
    "    visited = []\n",
    "    plots = []\n",
    "    for i,v in enumerate(history):\n",
    "        coloring = []\n",
    "        for node in G.nodes:\n",
    "            if node == v:\n",
    "                coloring.append('blue')\n",
    "            elif node in visited:\n",
    "                coloring.append('gray')\n",
    "            else:\n",
    "                coloring.append('green')\n",
    "        visited.append(v)\n",
    "        nx.draw(G, pos=layout, node_color=coloring)\n",
    "        image = 'images/' + str(i) + '.png'\n",
    "        plt.savefig(image)\n",
    "        plots.append(image)\n",
    "\n",
    "    coloring = []\n",
    "    for node in G.nodes:\n",
    "        if node in B.nodes:\n",
    "            coloring.append('red')\n",
    "        else:\n",
    "            coloring.append('gray')\n",
    "\n",
    "    nx.draw(G, pos=layout, node_color=coloring)\n",
    "    image = 'images/full.png'\n",
    "    plt.savefig(image)\n",
    "    plots.append(image)\n",
    "    plots.append(image)\n",
    "    plots.append(image)\n",
    "    return plots\n",
    "\n",
    "def plot_local_search(G: nx.Graph, t_max: int, objective: callable, alpha: float):\n",
    "    shutil.rmtree('images')\n",
    "    os.makedirs('images')\n",
    "    B, history = localSearchOQC(G.copy(), t_max, objective, alpha)\n",
    "    layout = nx.spring_layout(G)\n",
    "\n",
    "    plots = []\n",
    "    for i, current_subgraph in enumerate(history):\n",
    "        coloring = []\n",
    "        for node in G.nodes:\n",
    "            if node in current_subgraph:\n",
    "                coloring.append('blue')\n",
    "            else:\n",
    "                coloring.append('gray')\n",
    "        nx.draw(G, pos=layout, node_color=coloring)\n",
    "        image = 'images/' + str(i) + '.png'\n",
    "        plt.savefig(image)\n",
    "        plots.append(image)\n",
    "\n",
    "    coloring = []\n",
    "    for node in G.nodes:\n",
    "        if node in B.nodes:\n",
    "            coloring.append('red')\n",
    "        else:\n",
    "            coloring.append('gray')\n",
    "\n",
    "    nx.draw(G, pos=layout, node_color=coloring)\n",
    "    image = 'images/full.png'\n",
    "    plt.savefig(image)\n",
    "    plots.append(image)\n",
    "    plots.append(image)\n",
    "    plots.append(image)\n",
    "    return plots"
   ]
  },
  {
   "cell_type": "code",
   "execution_count": 87,
   "metadata": {
    "pycharm": {
     "name": "#%%\n"
    }
   },
   "outputs": [],
   "source": [
    "%%capture\n",
    "G = nx.erdos_renyi_graph(20, .6)\n",
    "# B, history = localSearchOQC(G.copy(), 100, edge_density, 1)\n",
    "plots = plot_local_search(G, 10, edge_density, .8)\n",
    "with imageio.get_writer('local_search.gif', mode='I', duration=.5) as writer:\n",
    "    for filename in plots:\n",
    "        image = imageio.imread(filename)\n",
    "        writer.append_data(image)"
   ]
  },
  {
   "cell_type": "code",
   "execution_count": 88,
   "metadata": {
    "pycharm": {
     "name": "#%%\n"
    }
   },
   "outputs": [
    {
     "data": {
      "text/html": [
       "<img style=\"display: block; margin: auto;\" src=\"local_search.gif?v=1379507056\" alt=\"Schema of adaptive filter\" height=\"100\">"
      ],
      "text/plain": [
       "<IPython.core.display.HTML object>"
      ]
     },
     "metadata": {},
     "output_type": "display_data"
    }
   ],
   "source": [
    "__counter__ = random.randint(0,2e9)\n",
    "display(HTML(f'<img style=\"display: block; margin: auto;\" src=\"local_search.gif?v={__counter__}\" ' +\n",
    "             'alt=\"Schema of adaptive filter\" ' +\n",
    "             'height=\"100\">' ))"
   ]
  },
  {
   "cell_type": "code",
   "execution_count": 72,
   "metadata": {
    "pycharm": {
     "name": "#%%\n"
    }
   },
   "outputs": [],
   "source": [
    "%%capture\n",
    "plots = plot_greedy_oqc(G, edge_density, 1)\n",
    "with imageio.get_writer('greedy.gif', mode='I', duration=.5) as writer:\n",
    "    for filename in plots:\n",
    "        image = imageio.imread(filename)\n",
    "        writer.append_data(image)\n"
   ]
  },
  {
   "cell_type": "code",
   "execution_count": 73,
   "metadata": {
    "pycharm": {
     "name": "#%%\n"
    }
   },
   "outputs": [
    {
     "data": {
      "text/html": [
       "<img style=\"display: block; margin: auto;\" src=\"greedy.gif?v=1787961207\" alt=\"Schema of adaptive filter\" height=\"100\">"
      ],
      "text/plain": [
       "<IPython.core.display.HTML object>"
      ]
     },
     "metadata": {},
     "output_type": "display_data"
    }
   ],
   "source": [
    "__counter__ = random.randint(0,2e9)\n",
    "display(HTML(f'<img style=\"display: block; margin: auto;\" src=\"greedy.gif?v={__counter__}\" ' +\n",
    "             'alt=\"Schema of adaptive filter\" ' +\n",
    "             'height=\"100\">' ))"
   ]
  },
  {
   "cell_type": "markdown",
   "metadata": {},
   "source": []
  },
  {
   "cell_type": "code",
   "execution_count": null,
   "metadata": {},
   "outputs": [],
   "source": []
  },
  {
   "cell_type": "code",
   "execution_count": null,
   "metadata": {},
   "outputs": [],
   "source": []
  },
  {
   "cell_type": "code",
   "execution_count": null,
   "metadata": {},
   "outputs": [],
   "source": []
  }
 ],
 "metadata": {
  "interpreter": {
   "hash": "aee8b7b246df8f9039afb4144a1f6fd8d2ca17a180786b69acc140d282b71a49"
  },
  "kernelspec": {
   "display_name": "PyCharm (SNACS_project)",
   "language": "python",
   "name": "pycharm-6dbf8182"
  },
  "language_info": {
   "codemirror_mode": {
    "name": "ipython",
    "version": 3
   },
   "file_extension": ".py",
   "mimetype": "text/x-python",
   "name": "python",
   "nbconvert_exporter": "python",
   "pygments_lexer": "ipython3",
   "version": "3.9.6"
  }
 },
 "nbformat": 4,
 "nbformat_minor": 2
}
