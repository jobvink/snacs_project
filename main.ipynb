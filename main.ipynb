{
 "cells": [
  {
   "cell_type": "code",
   "metadata": {
    "collapsed": true,
    "pycharm": {
     "name": "#%%\n"
    }
   },
   "source": [
    "import os\n",
    "import random\n",
    "\n",
    "import pandas as pd\n",
    "from collections import Counter\n",
    "from matplotlib import pyplot as plt"
   ],
   "execution_count": 63,
   "outputs": []
  },
  {
   "cell_type": "markdown",
   "source": [
    "## loading of MuzicBrainz Dataset"
   ],
   "metadata": {
    "collapsed": false,
    "pycharm": {
     "name": "#%% md\n"
    }
   }
  },
  {
   "cell_type": "code",
   "execution_count": 64,
   "outputs": [
    {
     "name": "stderr",
     "output_type": "stream",
     "text": [
      "/Library/Python/3.8/site-packages/IPython/core/interactiveshell.py:3165: DtypeWarning: Columns (5,6,12,14) have mixed types.Specify dtype option on import or set low_memory=False.\n",
      "  has_raised = await self.run_ast_nodes(code_ast.body, cell_name,\n"
     ]
    }
   ],
   "source": [
    "artists = pd.read_csv('./mbdump/artist', delimiter='\\t', index_col=False,\n",
    "                      names=['id', 'gid', 'name', 'sort_name', 'begin_date_year', 'begin_date_month', 'begin_date_day',\n",
    "                             'end_date_year', 'end_date_month', 'end_date_day', 'type', 'area', 'gender', 'comment',\n",
    "                             'edits_pending', 'last_updated', 'ended', ],\n",
    "                      na_values='\\\\N')\n",
    "artists = artists.set_index('id')\n",
    "\n",
    "label = pd.read_csv('./mbdump/label', delimiter='\\t', index_col=False,\n",
    "                    names=['id', 'gid', 'name', 'begin_date_year', 'begin_date_month', 'begin_date_day',\n",
    "                           'end_date_year', 'end_date_month', 'end_date_day', 'label_code', 'type', 'area', 'comment',\n",
    "                           'edits_pending', 'last_updated', 'ended', ],\n",
    "                    na_values='\\\\N')\n",
    "label = label.set_index('id')\n",
    "\n",
    "artist_label = pd.read_csv('./mbdump/l_artist_label', delimiter='\\t', index_col=False,\n",
    "                           names=['id', 'link', 'entity0', 'entity1', 'edits_pending', 'last_updated', 'link_order',\n",
    "                                  'entity0_credit', 'entity1_credit', ],\n",
    "                           # usecols=['entity0', 'entity1'],\n",
    "                           na_values='\\\\N')\n",
    "\n",
    "event = pd.read_csv('./mbdump/event', delimiter='\\t', index_col=False,\n",
    "                    names=['id', 'gid', 'name', 'begin_date_year', 'begin_date_month', 'begin_date_day',\n",
    "                           'end_date_year', 'end_date_month', 'end_date_day', 'time', 'type', 'cancelled', 'setlist',\n",
    "                           'comment', 'edits_pending', 'last_updated', 'ended', ],\n",
    "                    na_values='\\\\N'\n",
    "                    )\n",
    "\n",
    "artist_event = pd.read_csv('./mbdump/l_artist_event', delimiter='\\t', index_col=False,\n",
    "                           names=['id', 'link', 'entity0', 'entity1', 'edits_pending', 'last_updated', 'link_order',\n",
    "                                  'entity0_credit', 'entity1_credit', ],\n",
    "                           # usecols=['entity0', 'entity1'],\n",
    "                           na_values='\\\\N')\n",
    "\n"
   ],
   "metadata": {
    "collapsed": false,
    "pycharm": {
     "name": "#%%\n"
    }
   }
  },
  {
   "cell_type": "markdown",
   "source": [
    "Joining"
   ],
   "metadata": {
    "collapsed": false,
    "pycharm": {
     "name": "#%% md\n"
    }
   }
  },
  {
   "cell_type": "code",
   "execution_count": 65,
   "outputs": [],
   "source": [
    "joined = artist_event.join(artists, on='entity0', lsuffix='.event', rsuffix='.artist', how='inner')\n",
    "full = joined.join(event, on='entity1', lsuffix='.artist', rsuffix='.event', how='inner')"
   ],
   "metadata": {
    "collapsed": false,
    "pycharm": {
     "name": "#%%\n"
    }
   }
  },
  {
   "cell_type": "code",
   "execution_count": 66,
   "outputs": [
    {
     "data": {
      "text/plain": "                                 gid.artist      name.artist  \\\n0      db4295e7-06e1-433c-93cb-2f2a86a7ea3a            Wussy   \n1      291f93fb-adfd-430f-aa97-0c34c442d0d7  The Royal Pines   \n3723   db4295e7-06e1-433c-93cb-2f2a86a7ea3a            Wussy   \n3724   291f93fb-adfd-430f-aa97-0c34c442d0d7  The Royal Pines   \n22530  db4295e7-06e1-433c-93cb-2f2a86a7ea3a            Wussy   \n\n                           name.event                             gid.event  \n0                     BOB goes Matrix  d801c6c8-7870-4506-9709-af3890bf1e74  \n1                     BOB goes Matrix  d801c6c8-7870-4506-9709-af3890bf1e74  \n3723              ツアーファイナル@名古屋QUATTRO  e4b9591c-b26b-48a3-8fa1-a54c03e24f18  \n3724              ツアーファイナル@名古屋QUATTRO  e4b9591c-b26b-48a3-8fa1-a54c03e24f18  \n22530  Unter einem Dach Festival 2015  26e20d92-8f7d-42e6-8cfd-e4f81b66a7a7  ",
      "text/html": "<div>\n<style scoped>\n    .dataframe tbody tr th:only-of-type {\n        vertical-align: middle;\n    }\n\n    .dataframe tbody tr th {\n        vertical-align: top;\n    }\n\n    .dataframe thead th {\n        text-align: right;\n    }\n</style>\n<table border=\"1\" class=\"dataframe\">\n  <thead>\n    <tr style=\"text-align: right;\">\n      <th></th>\n      <th>gid.artist</th>\n      <th>name.artist</th>\n      <th>name.event</th>\n      <th>gid.event</th>\n    </tr>\n  </thead>\n  <tbody>\n    <tr>\n      <th>0</th>\n      <td>db4295e7-06e1-433c-93cb-2f2a86a7ea3a</td>\n      <td>Wussy</td>\n      <td>BOB goes Matrix</td>\n      <td>d801c6c8-7870-4506-9709-af3890bf1e74</td>\n    </tr>\n    <tr>\n      <th>1</th>\n      <td>291f93fb-adfd-430f-aa97-0c34c442d0d7</td>\n      <td>The Royal Pines</td>\n      <td>BOB goes Matrix</td>\n      <td>d801c6c8-7870-4506-9709-af3890bf1e74</td>\n    </tr>\n    <tr>\n      <th>3723</th>\n      <td>db4295e7-06e1-433c-93cb-2f2a86a7ea3a</td>\n      <td>Wussy</td>\n      <td>ツアーファイナル@名古屋QUATTRO</td>\n      <td>e4b9591c-b26b-48a3-8fa1-a54c03e24f18</td>\n    </tr>\n    <tr>\n      <th>3724</th>\n      <td>291f93fb-adfd-430f-aa97-0c34c442d0d7</td>\n      <td>The Royal Pines</td>\n      <td>ツアーファイナル@名古屋QUATTRO</td>\n      <td>e4b9591c-b26b-48a3-8fa1-a54c03e24f18</td>\n    </tr>\n    <tr>\n      <th>22530</th>\n      <td>db4295e7-06e1-433c-93cb-2f2a86a7ea3a</td>\n      <td>Wussy</td>\n      <td>Unter einem Dach Festival 2015</td>\n      <td>26e20d92-8f7d-42e6-8cfd-e4f81b66a7a7</td>\n    </tr>\n  </tbody>\n</table>\n</div>"
     },
     "execution_count": 66,
     "metadata": {},
     "output_type": "execute_result"
    }
   ],
   "source": [
    "full[['gid.artist', 'name.artist', 'name.event', 'gid.event']].head()"
   ],
   "metadata": {
    "collapsed": false,
    "pycharm": {
     "name": "#%%\n"
    }
   }
  },
  {
   "cell_type": "code",
   "execution_count": 67,
   "outputs": [
    {
     "name": "stdout",
     "output_type": "stream",
     "text": [
      "<class 'pandas.core.frame.DataFrame'>\n",
      "Int64Index: 143550 entries, 0 to 145324\n",
      "Data columns (total 42 columns):\n",
      " #   Column                   Non-Null Count   Dtype  \n",
      "---  ------                   --------------   -----  \n",
      " 0   id.artist                143550 non-null  int64  \n",
      " 1   link                     143550 non-null  int64  \n",
      " 2   entity0                  143550 non-null  int64  \n",
      " 3   entity1                  143550 non-null  int64  \n",
      " 4   edits_pending.event      143550 non-null  int64  \n",
      " 5   last_updated.event       143550 non-null  object \n",
      " 6   link_order               143550 non-null  int64  \n",
      " 7   entity0_credit           3766 non-null    object \n",
      " 8   entity1_credit           0 non-null       float64\n",
      " 9   gid.artist               143550 non-null  object \n",
      " 10  name.artist              143549 non-null  object \n",
      " 11  sort_name                143549 non-null  object \n",
      " 12  begin_date_year.artist   106019 non-null  float64\n",
      " 13  begin_date_month.artist  49686 non-null   object \n",
      " 14  begin_date_day.artist    39480 non-null   object \n",
      " 15  end_date_year.artist     11740 non-null   float64\n",
      " 16  end_date_month.artist    6678 non-null    float64\n",
      " 17  end_date_day.artist      5659 non-null    float64\n",
      " 18  type.artist              139732 non-null  float64\n",
      " 19  area                     133607 non-null  float64\n",
      " 20  gender                   51886 non-null   object \n",
      " 21  comment.artist           47218 non-null   object \n",
      " 22  edits_pending.artist     143550 non-null  object \n",
      " 23  last_updated.artist      142793 non-null  object \n",
      " 24  ended.artist             143550 non-null  object \n",
      " 25  id.event                 143550 non-null  int64  \n",
      " 26  gid.event                143550 non-null  object \n",
      " 27  name.event               143550 non-null  object \n",
      " 28  begin_date_year.event    142809 non-null  float64\n",
      " 29  begin_date_month.event   141513 non-null  float64\n",
      " 30  begin_date_day.event     140582 non-null  float64\n",
      " 31  end_date_year.event      141394 non-null  float64\n",
      " 32  end_date_month.event     140146 non-null  float64\n",
      " 33  end_date_day.event       139096 non-null  float64\n",
      " 34  time                     44796 non-null   object \n",
      " 35  type.event               135017 non-null  float64\n",
      " 36  cancelled                143550 non-null  object \n",
      " 37  setlist                  35139 non-null   object \n",
      " 38  comment.event            10498 non-null   object \n",
      " 39  edits_pending            143550 non-null  int64  \n",
      " 40  last_updated             143550 non-null  object \n",
      " 41  ended.event              143550 non-null  object \n",
      "dtypes: float64(14), int64(8), object(20)\n",
      "memory usage: 47.1+ MB\n"
     ]
    }
   ],
   "source": [
    "full.info()"
   ],
   "metadata": {
    "collapsed": false,
    "pycharm": {
     "name": "#%%\n"
    }
   }
  },
  {
   "cell_type": "code",
   "execution_count": 68,
   "outputs": [],
   "source": [
    "import networkx as nx\n",
    "from networkx.algorithms import bipartite"
   ],
   "metadata": {
    "collapsed": false,
    "pycharm": {
     "name": "#%%\n"
    }
   }
  },
  {
   "cell_type": "code",
   "execution_count": 69,
   "outputs": [],
   "source": [
    "artists = list(map(lambda artist: (artist[0], {'name': artist[1]}), full[['gid.artist', 'name.artist']].values))\n",
    "events = list(map(lambda event: (event[0], {'name': event[1]}), full[['gid.event', 'name.event']].values))\n",
    "edges = list(map(lambda edge: (edge[0], edge[1]), full[['gid.artist', 'gid.event']].values))\n",
    "\n",
    "B = nx.Graph()\n",
    "B.add_nodes_from(artists, bipartite=0)\n",
    "B.add_nodes_from(events, bipartite=1)\n",
    "B.add_edges_from(edges)"
   ],
   "metadata": {
    "collapsed": false,
    "pycharm": {
     "name": "#%%\n"
    }
   }
  },
  {
   "cell_type": "code",
   "execution_count": 70,
   "outputs": [],
   "source": [
    "nx.write_gml(B, 'MusicBrainz.gml')"
   ],
   "metadata": {
    "collapsed": false,
    "pycharm": {
     "name": "#%%\n"
    }
   }
  },
  {
   "cell_type": "code",
   "execution_count": 71,
   "outputs": [
    {
     "name": "stdout",
     "output_type": "stream",
     "text": [
      "142647\n"
     ]
    }
   ],
   "source": [
    "print(B.edges.__len__())"
   ],
   "metadata": {
    "collapsed": false,
    "pycharm": {
     "name": "#%%\n"
    }
   }
  },
  {
   "cell_type": "code",
   "execution_count": 72,
   "outputs": [],
   "source": [
    "def network_connected_component_statistics(G, sample_size, name) -> None:\n",
    "    print(f'number of nodes: {len(G.nodes())}')\n",
    "    print(f'number of edges: {len(G.edges())}')\n",
    "\n",
    "    Gcc = max(nx.connected_components(B), key=len)\n",
    "    giant_component = B.subgraph(Gcc)\n",
    "    print(f'size of the giant component: {len(giant_component.nodes)}')\n",
    "\n",
    "    print(f'average clustering coefficient: {nx.average_clustering(B)}')\n",
    "\n",
    "    os.makedirs('plots/' + name, exist_ok=True)\n",
    "\n",
    "    x = dict(nx.degree(G)).values()\n",
    "    plt.hist(x, bins=100)\n",
    "    plt.title('network degree distribution')\n",
    "    plt.ylabel('number of nodes')\n",
    "    plt.yscale('log')\n",
    "    plt.xlabel('node degree')\n",
    "    plt.savefig('plots/' + name + '/degree_distribution.pdf')\n",
    "    plt.close()\n",
    "\n",
    "    sources = random.sample(tuple(B.nodes()), sample_size)\n",
    "    targets = random.sample(tuple(B.nodes()), sample_size)\n",
    "\n",
    "    counter = Counter()\n",
    "    for source, target in zip(sources, targets):\n",
    "        try:\n",
    "            path = nx.shortest_path(B, source, target)\n",
    "            length = len(path)\n",
    "            counter[length] += 1\n",
    "        except:\n",
    "            pass\n",
    "\n",
    "    hist = dict(counter)\n",
    "\n",
    "    plt.bar(hist.keys(), hist.values())\n",
    "    plt.title('network distance distribution')\n",
    "    plt.ylabel('number of nodes')\n",
    "    plt.yscale('log')\n",
    "    plt.xlabel('distance')\n",
    "    plt.savefig('plots/' + name + '/distance_distribution.pdf')"
   ],
   "metadata": {
    "collapsed": false,
    "pycharm": {
     "name": "#%%\n"
    }
   }
  },
  {
   "cell_type": "code",
   "execution_count": 73,
   "outputs": [
    {
     "name": "stdout",
     "output_type": "stream",
     "text": [
      "number of nodes: 99845\n",
      "number of edges: 142647\n",
      "size of the giant component: 80727\n",
      "average clustering coefficient: 0.0\n"
     ]
    },
    {
     "data": {
      "text/plain": "<Figure size 432x288 with 1 Axes>",
      "image/png": "[encoded data removed]"
     },
     "metadata": {
      "needs_background": "light"
     },
     "output_type": "display_data"
    }
   ],
   "source": [
    "network_connected_component_statistics(B, len(B.nodes), 'MusicBrainz')"
   ],
   "metadata": {
    "collapsed": false,
    "pycharm": {
     "name": "#%%\n"
    }
   }
  },
  {
   "cell_type": "code",
   "execution_count": 73,
   "outputs": [],
   "source": [],
   "metadata": {
    "collapsed": false,
    "pycharm": {
     "name": "#%%\n"
    }
   }
  }
 ],
 "metadata": {
  "kernelspec": {
   "display_name": "Python 3",
   "language": "python",
   "name": "python3"
  },
  "language_info": {
   "codemirror_mode": {
    "name": "ipython",
    "version": 2
   },
   "file_extension": ".py",
   "mimetype": "text/x-python",
   "name": "python",
   "nbconvert_exporter": "python",
   "pygments_lexer": "ipython2",
   "version": "2.7.6"
  }
 },
 "nbformat": 4,
 "nbformat_minor": 0
}