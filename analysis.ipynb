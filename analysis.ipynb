{
 "cells": [
  {
   "cell_type": "code",
   "execution_count": 1,
   "outputs": [],
   "source": [
    "import pandas as pd"
   ],
   "metadata": {
    "collapsed": false,
    "pycharm": {
     "name": "#%%\n"
    }
   }
  },
  {
   "cell_type": "code",
   "execution_count": 2,
   "metadata": {
    "collapsed": true
   },
   "outputs": [],
   "source": [
    "df = pd.read_csv('./results/meta_data.csv')"
   ]
  },
  {
   "cell_type": "code",
   "execution_count": 3,
   "outputs": [
    {
     "name": "stdout",
     "output_type": "stream",
     "text": [
      "<class 'pandas.core.frame.DataFrame'>\n",
      "RangeIndex: 5 entries, 0 to 4\n",
      "Data columns (total 4 columns):\n",
      " #   Column       Non-Null Count  Dtype \n",
      "---  ------       --------------  ----- \n",
      " 0   name         5 non-null      object\n",
      " 1   description  5 non-null      object\n",
      " 2   nodes        5 non-null      int64 \n",
      " 3   edges        5 non-null      int64 \n",
      "dtypes: int64(2), object(2)\n",
      "memory usage: 288.0+ bytes\n"
     ]
    }
   ],
   "source": [
    "df.info()"
   ],
   "metadata": {
    "collapsed": false,
    "pycharm": {
     "name": "#%%\n"
    }
   }
  },
  {
   "cell_type": "code",
   "execution_count": 5,
   "outputs": [
    {
     "name": "stdout",
     "output_type": "stream",
     "text": [
      "\\begin{tabular}{lrr}\n",
      "\\toprule\n",
      "             name &  nodes &  edges \\\\\n",
      "\\midrule\n",
      "         dolphins &     62 &    159 \\\\\n",
      "         football &    115 &    613 \\\\\n",
      "C-elegans-frontal &    131 &    687 \\\\\n",
      "    email-EU-core &   1005 &  16706 \\\\\n",
      "       amazon0302 & 262111 & 899792 \\\\\n",
      "\\bottomrule\n",
      "\\end{tabular}\n",
      "\n"
     ]
    }
   ],
   "source": [
    "print(df[['name', 'nodes', 'edges']].sort_values('nodes').to_latex(index=False, float_format=':.3f'))"
   ],
   "metadata": {
    "collapsed": false,
    "pycharm": {
     "name": "#%%\n"
    }
   }
  },
  {
   "cell_type": "code",
   "execution_count": 8,
   "outputs": [],
   "source": [
    "df = pd.read_csv('./results/greedyOQC.csv', index_col=0)"
   ],
   "metadata": {
    "collapsed": false,
    "pycharm": {
     "name": "#%%\n"
    }
   }
  },
  {
   "cell_type": "code",
   "execution_count": 26,
   "outputs": [
    {
     "name": "stdout",
     "output_type": "stream",
     "text": [
      "\\begin{tabular}{lrrrr}\n",
      "\\toprule\n",
      "{} &  edge\\_density &  diameter &  nodes &    edges \\\\\n",
      "graph             &               &           &        &          \\\\\n",
      "\\midrule\n",
      "C-elegans-frontal &         1.699 &     3.500 & 10.233 &   20.233 \\\\\n",
      "amazon0302        &         0.000 &     0.000 &  1.000 &    0.000 \\\\\n",
      "dolphins          &         0.889 &     2.867 &  5.133 &    5.400 \\\\\n",
      "email-EU-core     &         4.907 &     2.100 & 95.533 & 2234.967 \\\\\n",
      "football          &         0.062 &     0.429 &  2.167 &    0.933 \\\\\n",
      "\\bottomrule\n",
      "\\end{tabular}\n",
      "\n"
     ]
    }
   ],
   "source": [
    "print(df.groupby('graph')[['graph', 'edge_density', 'diameter', 'nodes', 'edges']].mean().to_latex(float_format='%.3f'))"
   ],
   "metadata": {
    "collapsed": false,
    "pycharm": {
     "name": "#%%\n"
    }
   }
  },
  {
   "cell_type": "code",
   "execution_count": 27,
   "outputs": [],
   "source": [
    "df = pd.read_csv('./results/localSearchOQCSnap.csv', index_col=0)"
   ],
   "metadata": {
    "collapsed": false,
    "pycharm": {
     "name": "#%%\n"
    }
   }
  },
  {
   "cell_type": "code",
   "execution_count": 28,
   "outputs": [
    {
     "name": "stdout",
     "output_type": "stream",
     "text": [
      "\\begin{tabular}{lrrrr}\n",
      "\\toprule\n",
      "{} &  edge\\_density &  diameter &  nodes &    edges \\\\\n",
      "graph             &               &           &        &          \\\\\n",
      "\\midrule\n",
      "C-elegans-frontal &         2.195 &     2.433 & 12.600 &   41.000 \\\\\n",
      "amazon0302        &         1.932 &     2.267 &  9.667 &   27.000 \\\\\n",
      "dolphins          &         1.675 &     2.533 &  7.700 &   16.700 \\\\\n",
      "email-EU-core     &         5.038 &     2.000 & 99.000 & 2609.200 \\\\\n",
      "football          &         2.345 &     1.600 &  9.633 &   36.567 \\\\\n",
      "\\bottomrule\n",
      "\\end{tabular}\n",
      "\n"
     ]
    }
   ],
   "source": [
    "print(df.groupby('graph')[['graph', 'edge_density', 'diameter', 'nodes', 'edges']].mean().to_latex(float_format='%.3f'))"
   ],
   "metadata": {
    "collapsed": false,
    "pycharm": {
     "name": "#%%\n"
    }
   }
  },
  {
   "cell_type": "code",
   "execution_count": 29,
   "outputs": [],
   "source": [
    "df = pd.read_csv('./results/geneticAlgorithm.csv', index_col=0)"
   ],
   "metadata": {
    "collapsed": false,
    "pycharm": {
     "name": "#%%\n"
    }
   }
  },
  {
   "cell_type": "code",
   "execution_count": 30,
   "outputs": [
    {
     "name": "stdout",
     "output_type": "stream",
     "text": [
      "\\begin{tabular}{lrrrr}\n",
      "\\toprule\n",
      "{} &  edge\\_density &  diameter &  nodes &   edges \\\\\n",
      "graph             &               &           &        &         \\\\\n",
      "\\midrule\n",
      "C-elegans-frontal &         2.125 &     2.167 & 11.067 &  33.467 \\\\\n",
      "amazon0302        &         0.000 &     0.033 &  1.033 &   0.033 \\\\\n",
      "dolphins          &         1.843 &     2.167 &  8.133 &  19.567 \\\\\n",
      "email-EU-core     &         2.988 &     2.067 & 17.267 & 109.833 \\\\\n",
      "football          &         2.252 &     1.833 &  9.633 &  34.433 \\\\\n",
      "\\bottomrule\n",
      "\\end{tabular}\n",
      "\n"
     ]
    }
   ],
   "source": [
    "print(df.groupby('graph')[['graph', 'edge_density', 'diameter', 'nodes', 'edges']].mean().to_latex(float_format='%.3f'))"
   ],
   "metadata": {
    "collapsed": false,
    "pycharm": {
     "name": "#%%\n"
    }
   }
  },
  {
   "cell_type": "code",
   "execution_count": 31,
   "outputs": [],
   "source": [
    "neighborhood_mutation = pd.read_csv('./results/ga_neighborhood_mutate.csv', index_col=0)\n",
    "random_mutation = pd.read_csv('./results/ga_ranndom_mutate.csv', index_col=0)"
   ],
   "metadata": {
    "collapsed": false,
    "pycharm": {
     "name": "#%%\n"
    }
   }
  },
  {
   "cell_type": "code",
   "execution_count": 33,
   "outputs": [],
   "source": [
    "neighborhood_mutation['mutation'] = 'neighborhood'\n",
    "random_mutation['mutation'] = 'random'\n",
    "df = pd.concat([neighborhood_mutation, random_mutation])"
   ],
   "metadata": {
    "collapsed": false,
    "pycharm": {
     "name": "#%%\n"
    }
   }
  },
  {
   "cell_type": "code",
   "execution_count": 34,
   "outputs": [
    {
     "data": {
      "text/plain": "            graph  run  diameter  edge_density  nodes  edges      mutation\n20  email-EU-core    0       2.0      3.802069     36    384  neighborhood\n21  email-EU-core    1       3.0      3.598902     30    277  neighborhood\n22  email-EU-core    2       2.0      3.570036     29    263  neighborhood\n23  email-EU-core    3       2.0      3.708226     30    309  neighborhood\n24  email-EU-core    4       3.0      3.765024     34    356  neighborhood\n25  email-EU-core    5       2.0      3.858801     34    391  neighborhood\n26  email-EU-core    6       3.0      3.593519     26    250  neighborhood\n27  email-EU-core    7       2.0      3.796405     33    360  neighborhood\n28  email-EU-core    8       2.0      3.444567     27    221  neighborhood\n29  email-EU-core    9       2.0      3.826503     33    371  neighborhood\n20  email-EU-core    0       2.0      3.103022     20    128        random\n21  email-EU-core    1       2.0      2.602314     10     48        random\n22  email-EU-core    2       2.0      2.730487     14     69        random\n23  email-EU-core    3       2.0      2.689574     11     56        random\n24  email-EU-core    4       2.0      2.385773      8     33        random\n25  email-EU-core    5       NaN      3.068119     18    115        random\n26  email-EU-core    6       2.0      2.927197     14     84        random\n27  email-EU-core    7       2.0      2.914588     15     87        random\n28  email-EU-core    8       2.0      2.535274     12     51        random\n29  email-EU-core    9       NaN      2.937159     17     97        random",
      "text/html": "<div>\n<style scoped>\n    .dataframe tbody tr th:only-of-type {\n        vertical-align: middle;\n    }\n\n    .dataframe tbody tr th {\n        vertical-align: top;\n    }\n\n    .dataframe thead th {\n        text-align: right;\n    }\n</style>\n<table border=\"1\" class=\"dataframe\">\n  <thead>\n    <tr style=\"text-align: right;\">\n      <th></th>\n      <th>graph</th>\n      <th>run</th>\n      <th>diameter</th>\n      <th>edge_density</th>\n      <th>nodes</th>\n      <th>edges</th>\n      <th>mutation</th>\n    </tr>\n  </thead>\n  <tbody>\n    <tr>\n      <th>20</th>\n      <td>email-EU-core</td>\n      <td>0</td>\n      <td>2.0</td>\n      <td>3.802069</td>\n      <td>36</td>\n      <td>384</td>\n      <td>neighborhood</td>\n    </tr>\n    <tr>\n      <th>21</th>\n      <td>email-EU-core</td>\n      <td>1</td>\n      <td>3.0</td>\n      <td>3.598902</td>\n      <td>30</td>\n      <td>277</td>\n      <td>neighborhood</td>\n    </tr>\n    <tr>\n      <th>22</th>\n      <td>email-EU-core</td>\n      <td>2</td>\n      <td>2.0</td>\n      <td>3.570036</td>\n      <td>29</td>\n      <td>263</td>\n      <td>neighborhood</td>\n    </tr>\n    <tr>\n      <th>23</th>\n      <td>email-EU-core</td>\n      <td>3</td>\n      <td>2.0</td>\n      <td>3.708226</td>\n      <td>30</td>\n      <td>309</td>\n      <td>neighborhood</td>\n    </tr>\n    <tr>\n      <th>24</th>\n      <td>email-EU-core</td>\n      <td>4</td>\n      <td>3.0</td>\n      <td>3.765024</td>\n      <td>34</td>\n      <td>356</td>\n      <td>neighborhood</td>\n    </tr>\n    <tr>\n      <th>25</th>\n      <td>email-EU-core</td>\n      <td>5</td>\n      <td>2.0</td>\n      <td>3.858801</td>\n      <td>34</td>\n      <td>391</td>\n      <td>neighborhood</td>\n    </tr>\n    <tr>\n      <th>26</th>\n      <td>email-EU-core</td>\n      <td>6</td>\n      <td>3.0</td>\n      <td>3.593519</td>\n      <td>26</td>\n      <td>250</td>\n      <td>neighborhood</td>\n    </tr>\n    <tr>\n      <th>27</th>\n      <td>email-EU-core</td>\n      <td>7</td>\n      <td>2.0</td>\n      <td>3.796405</td>\n      <td>33</td>\n      <td>360</td>\n      <td>neighborhood</td>\n    </tr>\n    <tr>\n      <th>28</th>\n      <td>email-EU-core</td>\n      <td>8</td>\n      <td>2.0</td>\n      <td>3.444567</td>\n      <td>27</td>\n      <td>221</td>\n      <td>neighborhood</td>\n    </tr>\n    <tr>\n      <th>29</th>\n      <td>email-EU-core</td>\n      <td>9</td>\n      <td>2.0</td>\n      <td>3.826503</td>\n      <td>33</td>\n      <td>371</td>\n      <td>neighborhood</td>\n    </tr>\n    <tr>\n      <th>20</th>\n      <td>email-EU-core</td>\n      <td>0</td>\n      <td>2.0</td>\n      <td>3.103022</td>\n      <td>20</td>\n      <td>128</td>\n      <td>random</td>\n    </tr>\n    <tr>\n      <th>21</th>\n      <td>email-EU-core</td>\n      <td>1</td>\n      <td>2.0</td>\n      <td>2.602314</td>\n      <td>10</td>\n      <td>48</td>\n      <td>random</td>\n    </tr>\n    <tr>\n      <th>22</th>\n      <td>email-EU-core</td>\n      <td>2</td>\n      <td>2.0</td>\n      <td>2.730487</td>\n      <td>14</td>\n      <td>69</td>\n      <td>random</td>\n    </tr>\n    <tr>\n      <th>23</th>\n      <td>email-EU-core</td>\n      <td>3</td>\n      <td>2.0</td>\n      <td>2.689574</td>\n      <td>11</td>\n      <td>56</td>\n      <td>random</td>\n    </tr>\n    <tr>\n      <th>24</th>\n      <td>email-EU-core</td>\n      <td>4</td>\n      <td>2.0</td>\n      <td>2.385773</td>\n      <td>8</td>\n      <td>33</td>\n      <td>random</td>\n    </tr>\n    <tr>\n      <th>25</th>\n      <td>email-EU-core</td>\n      <td>5</td>\n      <td>NaN</td>\n      <td>3.068119</td>\n      <td>18</td>\n      <td>115</td>\n      <td>random</td>\n    </tr>\n    <tr>\n      <th>26</th>\n      <td>email-EU-core</td>\n      <td>6</td>\n      <td>2.0</td>\n      <td>2.927197</td>\n      <td>14</td>\n      <td>84</td>\n      <td>random</td>\n    </tr>\n    <tr>\n      <th>27</th>\n      <td>email-EU-core</td>\n      <td>7</td>\n      <td>2.0</td>\n      <td>2.914588</td>\n      <td>15</td>\n      <td>87</td>\n      <td>random</td>\n    </tr>\n    <tr>\n      <th>28</th>\n      <td>email-EU-core</td>\n      <td>8</td>\n      <td>2.0</td>\n      <td>2.535274</td>\n      <td>12</td>\n      <td>51</td>\n      <td>random</td>\n    </tr>\n    <tr>\n      <th>29</th>\n      <td>email-EU-core</td>\n      <td>9</td>\n      <td>NaN</td>\n      <td>2.937159</td>\n      <td>17</td>\n      <td>97</td>\n      <td>random</td>\n    </tr>\n  </tbody>\n</table>\n</div>"
     },
     "execution_count": 34,
     "metadata": {},
     "output_type": "execute_result"
    }
   ],
   "source": [
    "df[df['graph'] == 'email-EU-core'].scatter()"
   ],
   "metadata": {
    "collapsed": false,
    "pycharm": {
     "name": "#%%\n"
    }
   }
  },
  {
   "cell_type": "code",
   "execution_count": null,
   "outputs": [],
   "source": [],
   "metadata": {
    "collapsed": false,
    "pycharm": {
     "name": "#%%\n"
    }
   }
  }
 ],
 "metadata": {
  "kernelspec": {
   "name": "python3",
   "language": "python",
   "display_name": "Python 3"
  },
  "language_info": {
   "codemirror_mode": {
    "name": "ipython",
    "version": 2
   },
   "file_extension": ".py",
   "mimetype": "text/x-python",
   "name": "python",
   "nbconvert_exporter": "python",
   "pygments_lexer": "ipython2",
   "version": "2.7.6"
  }
 },
 "nbformat": 4,
 "nbformat_minor": 0
}